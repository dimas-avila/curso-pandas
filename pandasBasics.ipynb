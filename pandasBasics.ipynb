{
 "cells": [
  {
   "cell_type": "code",
   "execution_count": null,
   "source": [
    "import pandas as pd"
   ],
   "outputs": [],
   "metadata": {}
  },
  {
   "cell_type": "markdown",
   "source": [
    "# 1. ¿Qué es un DataFrame?"
   ],
   "metadata": {}
  },
  {
   "cell_type": "code",
   "execution_count": null,
   "source": [
    "personas = {\r\n",
    "    \"nombre\": [\"Dimas\", \"Juan\", \"Ana\"],\r\n",
    "    \"edad\": [23, 24, 25],\r\n",
    "    \"país\": [\"España\", \"México\", \"Chile\"]\r\n",
    "}\r\n",
    "\r\n",
    "df = pd.DataFrame(personas)\r\n",
    "df"
   ],
   "outputs": [],
   "metadata": {}
  },
  {
   "cell_type": "markdown",
   "source": [
    "# 2. ¿Cómo hacer un DataFrame con listas?"
   ],
   "metadata": {}
  },
  {
   "cell_type": "code",
   "execution_count": null,
   "source": [
    "import pandas as pd\r\n",
    "# Método 1: Lista de Listas\r\n",
    "columns = [\"marca\", \"precio\", \"disponibilidad\"]\r\n",
    "cocheA = [\"Mercedes\", 10e3, True]\r\n",
    "cocheB = [\"BMW\", 20e3, False]\r\n",
    "\r\n",
    "df = pd.DataFrame([cocheA, cocheB], columns=columns)\r\n",
    "df\r\n"
   ],
   "outputs": [],
   "metadata": {}
  },
  {
   "cell_type": "code",
   "execution_count": null,
   "source": [
    "# Método 2: Usando ZIP\r\n",
    "marcas = [\r\n",
    "    \"Audi\", \r\n",
    "    \"Mercedes\", \r\n",
    "    \"BMW\",\r\n",
    "    \"Mercedes\"\r\n",
    "]\r\n",
    "precio = [\r\n",
    "    20e3,\r\n",
    "    30e3,\r\n",
    "    40e3,\r\n",
    "    25e3\r\n",
    "]\r\n",
    "disponibilidad = [\r\n",
    "    True,\r\n",
    "    False,\r\n",
    "    False,\r\n",
    "    True,\r\n",
    "]\r\n",
    "\r\n",
    "df = pd.DataFrame(\r\n",
    "    list(zip(marcas, precio, disponibilidad)),\r\n",
    "    columns=[\"marca\", \"precio\", \"disponibilidad\"]\r\n",
    ")\r\n",
    "print(list(zip(marcas, precio, disponibilidad)))"
   ],
   "outputs": [],
   "metadata": {}
  },
  {
   "cell_type": "code",
   "execution_count": null,
   "source": [
    "# Método 3: Usando un diccionario\r\n",
    "marcas = [\r\n",
    "    \"Audi\", \r\n",
    "    \"Mercedes\", \r\n",
    "    \"BMW\",\r\n",
    "    \"Mercedes\"\r\n",
    "]\r\n",
    "precio = [\r\n",
    "    20e3,\r\n",
    "    30e3,\r\n",
    "    40e3,\r\n",
    "    25e3\r\n",
    "]\r\n",
    "disponibilidad = [\r\n",
    "    True,\r\n",
    "    False,\r\n",
    "    False,\r\n",
    "    True,\r\n",
    "]\r\n",
    "\r\n",
    "diccionario = {\r\n",
    "    \"marca\": marcas,\r\n",
    "    \"precio\": precio,\r\n",
    "    \"disponibilidad\": disponibilidad\r\n",
    "}\r\n",
    "\r\n",
    "df = pd.DataFrame(diccionario)\r\n",
    "df"
   ],
   "outputs": [],
   "metadata": {}
  },
  {
   "cell_type": "markdown",
   "source": [
    "# 3. ¿Qué es un DataSet?"
   ],
   "metadata": {}
  },
  {
   "cell_type": "markdown",
   "source": [
    "\r\n",
    "Un conjunto de datos o **dataset** corresponde a los contenidos de una única tabla de base de datos o una única matriz de datos de estadística, donde:\r\n",
    "- Cada **columna** de la tabla representa una variable en particular.\r\n",
    "- Cada **fila** representa a un miembro determinado del conjunto de datos que estamos tratando.\r\n",
    "\r\n",
    "**FUENTE**: https://www.deustoformacion.com/blog/programacion-tic/que-son-datasets-dataframes-big-data"
   ],
   "metadata": {}
  },
  {
   "cell_type": "markdown",
   "source": [
    "# 4. ¿Cómo leer archivos CSV en Python con pandas?"
   ],
   "metadata": {}
  },
  {
   "cell_type": "code",
   "execution_count": null,
   "source": [
    "import pandas as pd\r\n",
    "\r\n",
    "df = pd.read_csv(\"./data/avocado.csv\", index_col=[\"Date\"])\r\n",
    "df.head(3)"
   ],
   "outputs": [],
   "metadata": {}
  },
  {
   "cell_type": "markdown",
   "source": [
    "# 5. ¿Cómo agregar una lista a un DataFrame Python?"
   ],
   "metadata": {}
  },
  {
   "cell_type": "code",
   "execution_count": null,
   "source": [
    "import pandas as pd\r\n",
    "\r\n",
    "personas = {\r\n",
    "    \"nombre\": [\"Dimas\", \"Juan\", \"Jose\"], \r\n",
    "    \"edad\": [20, 23, 25], \r\n",
    "    \"dni\": [\"48014003P\", \"48014003P\", \"48014003P\"]\r\n",
    "}\r\n",
    "\r\n",
    "df = pd.DataFrame(personas)\r\n",
    "df\r\n",
    "# Método 1: Sintaxis básica\r\n",
    "df[\"profesiones\"] = [\"Ingeniero\", \"Maestro\", \"Bombero\"]\r\n",
    "df\r\n",
    "# Método 2: Assign\r\n",
    "df = df.assign(sueldo=[20000, 30e3, 40e3])\r\n",
    "df\r\n",
    "# Método 3: insert\r\n",
    "df.insert(3, \"email\", [\"dimas@email\", \"juan@email\", \"jose@jose\"])\r\n",
    "df\r\n"
   ],
   "outputs": [],
   "metadata": {}
  },
  {
   "cell_type": "markdown",
   "source": [
    "# 6. ¿Cómo seleccionar columnas en Python?"
   ],
   "metadata": {}
  },
  {
   "cell_type": "code",
   "execution_count": null,
   "source": [
    "df\r\n",
    "# ¿Cómo seleccionar columnas en Python?\r\n",
    "# Método 1\r\n",
    "df[\"nombre\"]\r\n",
    "df[[\"nombre\", \"dni\", \"email\"]]\r\n",
    "# Método 2: iloc -> integer row index, column index\r\n",
    "df.iloc[:, [0, 3]]\r\n",
    "# Método 3: loc -> index label, column label\r\n",
    "df.loc[:, [\"email\", \"sueldo\"]]"
   ],
   "outputs": [],
   "metadata": {}
  },
  {
   "cell_type": "markdown",
   "source": [
    "# 7. ¿Cómo obtener las filas de un DataFrame en Python?"
   ],
   "metadata": {}
  },
  {
   "cell_type": "code",
   "execution_count": 83,
   "source": [
    "# ¿Cómo obtener las filas de un DataFrame en Python?\r\n",
    "df\r\n",
    "# Método 1: Sintaxis basica\r\n",
    "condicion = (df[\"nombre\"] == \"Dimas\")\r\n",
    "\r\n",
    "df[condicion]\r\n",
    "# Método 2: isin\r\n",
    "condicion = df.email.isin([\"dimas@email\"]) & df.nombre.isin([\"Dimas\"])\r\n",
    "df[condicion]\r\n",
    "# Método 3: iloc\r\n",
    "df.iloc[[2], :]\r\n",
    "# Método 4: set_index and loc\r\n",
    "nombres = df.set_index(\"nombre\")\r\n"
   ],
   "outputs": [
    {
     "output_type": "execute_result",
     "data": {
      "text/html": [
       "<div>\n",
       "<style scoped>\n",
       "    .dataframe tbody tr th:only-of-type {\n",
       "        vertical-align: middle;\n",
       "    }\n",
       "\n",
       "    .dataframe tbody tr th {\n",
       "        vertical-align: top;\n",
       "    }\n",
       "\n",
       "    .dataframe thead th {\n",
       "        text-align: right;\n",
       "    }\n",
       "</style>\n",
       "<table border=\"1\" class=\"dataframe\">\n",
       "  <thead>\n",
       "    <tr style=\"text-align: right;\">\n",
       "      <th></th>\n",
       "      <th>nombre</th>\n",
       "      <th>edad</th>\n",
       "      <th>dni</th>\n",
       "      <th>email</th>\n",
       "      <th>profesiones</th>\n",
       "      <th>sueldo</th>\n",
       "    </tr>\n",
       "  </thead>\n",
       "  <tbody>\n",
       "    <tr>\n",
       "      <th>2</th>\n",
       "      <td>Jose</td>\n",
       "      <td>25</td>\n",
       "      <td>48014003P</td>\n",
       "      <td>jose@jose</td>\n",
       "      <td>Bombero</td>\n",
       "      <td>40000.0</td>\n",
       "    </tr>\n",
       "  </tbody>\n",
       "</table>\n",
       "</div>"
      ],
      "text/plain": [
       "  nombre  edad        dni      email profesiones   sueldo\n",
       "2   Jose    25  48014003P  jose@jose     Bombero  40000.0"
      ]
     },
     "metadata": {},
     "execution_count": 83
    }
   ],
   "metadata": {}
  },
  {
   "cell_type": "code",
   "execution_count": 68,
   "source": [
    "df"
   ],
   "outputs": [
    {
     "output_type": "execute_result",
     "data": {
      "text/html": [
       "<div>\n",
       "<style scoped>\n",
       "    .dataframe tbody tr th:only-of-type {\n",
       "        vertical-align: middle;\n",
       "    }\n",
       "\n",
       "    .dataframe tbody tr th {\n",
       "        vertical-align: top;\n",
       "    }\n",
       "\n",
       "    .dataframe thead th {\n",
       "        text-align: right;\n",
       "    }\n",
       "</style>\n",
       "<table border=\"1\" class=\"dataframe\">\n",
       "  <thead>\n",
       "    <tr style=\"text-align: right;\">\n",
       "      <th></th>\n",
       "      <th>nombre</th>\n",
       "      <th>edad</th>\n",
       "      <th>dni</th>\n",
       "      <th>email</th>\n",
       "      <th>profesiones</th>\n",
       "      <th>sueldo</th>\n",
       "    </tr>\n",
       "  </thead>\n",
       "  <tbody>\n",
       "    <tr>\n",
       "      <th>0</th>\n",
       "      <td>Dimas</td>\n",
       "      <td>20</td>\n",
       "      <td>48014003P</td>\n",
       "      <td>dimas@email</td>\n",
       "      <td>Ingeniero</td>\n",
       "      <td>20000.0</td>\n",
       "    </tr>\n",
       "    <tr>\n",
       "      <th>1</th>\n",
       "      <td>Juan</td>\n",
       "      <td>23</td>\n",
       "      <td>48014003P</td>\n",
       "      <td>juan@email</td>\n",
       "      <td>Maestro</td>\n",
       "      <td>30000.0</td>\n",
       "    </tr>\n",
       "    <tr>\n",
       "      <th>2</th>\n",
       "      <td>Jose</td>\n",
       "      <td>25</td>\n",
       "      <td>48014003P</td>\n",
       "      <td>jose@jose</td>\n",
       "      <td>Bombero</td>\n",
       "      <td>40000.0</td>\n",
       "    </tr>\n",
       "  </tbody>\n",
       "</table>\n",
       "</div>"
      ],
      "text/plain": [
       "  nombre  edad        dni        email profesiones   sueldo\n",
       "0  Dimas    20  48014003P  dimas@email   Ingeniero  20000.0\n",
       "1   Juan    23  48014003P   juan@email     Maestro  30000.0\n",
       "2   Jose    25  48014003P    jose@jose     Bombero  40000.0"
      ]
     },
     "metadata": {},
     "execution_count": 68
    }
   ],
   "metadata": {}
  },
  {
   "cell_type": "code",
   "execution_count": null,
   "source": [],
   "outputs": [],
   "metadata": {}
  }
 ],
 "metadata": {
  "orig_nbformat": 4,
  "language_info": {
   "name": "python",
   "version": "3.9.4",
   "mimetype": "text/x-python",
   "codemirror_mode": {
    "name": "ipython",
    "version": 3
   },
   "pygments_lexer": "ipython3",
   "nbconvert_exporter": "python",
   "file_extension": ".py"
  },
  "kernelspec": {
   "name": "python3",
   "display_name": "Python 3.9.4 64-bit"
  },
  "interpreter": {
   "hash": "c186500ee7fd96fa1969b611ca8a6b9ce5009d2148ead3dc327a8aff573cb304"
  }
 },
 "nbformat": 4,
 "nbformat_minor": 2
}